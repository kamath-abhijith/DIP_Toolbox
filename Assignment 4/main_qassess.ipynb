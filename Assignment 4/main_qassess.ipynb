{
 "metadata": {
  "language_info": {
   "codemirror_mode": {
    "name": "ipython",
    "version": 3
   },
   "file_extension": ".py",
   "mimetype": "text/x-python",
   "name": "python",
   "nbconvert_exporter": "python",
   "pygments_lexer": "ipython3",
   "version": "3.8.3-final"
  },
  "orig_nbformat": 2,
  "kernelspec": {
   "name": "python3",
   "display_name": "Python 3",
   "language": "python"
  }
 },
 "nbformat": 4,
 "nbformat_minor": 2,
 "cells": [
  {
   "source": [
    "# Image Quality Assessment\n",
    "\n",
    "Contents:\n",
    "Computation of the following on a dataset\n",
    "- Mean-Squared Error\n",
    "- Peak Signal to Noise Ratio\n",
    "- Structural Similarity Index\n",
    "- Spearman Rank Order Cross Correlation\n",
    "\n",
    "Author: Abijith J. Kamath\n",
    "https://kamath-abhijith.github.io"
   ],
   "cell_type": "markdown",
   "metadata": {}
  },
  {
   "cell_type": "code",
   "execution_count": 98,
   "metadata": {},
   "outputs": [],
   "source": [
    "import numpy as np\n",
    "\n",
    "from skimage import io\n",
    "from skimage.metrics import structural_similarity as ssim\n",
    "from skimage.metrics import mean_squared_error as mse\n",
    "from scipy import stats\n",
    "from scipy.io import loadmat\n",
    "from matplotlib import pyplot as plt\n",
    "from matplotlib import style\n",
    "from matplotlib import rcParams"
   ]
  },
  {
   "cell_type": "code",
   "execution_count": 91,
   "metadata": {},
   "outputs": [],
   "source": [
    "## HELPER FUNCTIONS\n",
    "\n",
    "def rgb2gray(rgb):\n",
    "    r, g, b = rgb[:,:,0], rgb[:,:,1], rgb[:,:,2]\n",
    "    gray = 0.2989 * r + 0.5870 * g + 0.1140 * b\n",
    "    return gray"
   ]
  },
  {
   "cell_type": "code",
   "execution_count": 92,
   "metadata": {},
   "outputs": [],
   "source": [
    "## READ DATASET\n",
    "\n",
    "dataset = loadmat(\"hw5/hw5.mat\")\n",
    "blur_dmos = dataset['blur_dmos'][0]\n",
    "refnames_blur = dataset['refnames_blur']\n",
    "\n",
    "blur_images = io.imread_collection('hw5/gblur/*.bmp')\n",
    "num_images = sum(dataset['blur_orgs'][0] == 0)"
   ]
  },
  {
   "cell_type": "code",
   "execution_count": 103,
   "metadata": {},
   "outputs": [
    {
     "output_type": "stream",
     "name": "stdout",
     "text": [
      "The correlation with perception and PSNR is  -0.7823\nThe correlation with perception and SSIM is  -0.9200\n"
     ]
    }
   ],
   "source": [
    "## PERFORMANCE SCORES\n",
    "\n",
    "psnr_score = np.zeros(num_images)\n",
    "ssim_score = np.zeros(num_images)\n",
    "for i in range(num_images):\n",
    "    true_image = rgb2gray(io.imread(\"hw5/refimgs/\"+\"\".join(refnames_blur[0,i])))\n",
    "    blur_image = rgb2gray(blur_images[i])\n",
    "\n",
    "    mse_score = mse(blur_image, true_image)\n",
    "    psnr_score[i] = 10.0*np.log10(255.0/mse_score)\n",
    "    ssim_score[i] = ssim(blur_image, true_image, data_range=true_image.max() - true_image.min())\n",
    "\n",
    "psnr_corr, _ = stats.spearmanr(psnr_score, blur_dmos[0:num_images])\n",
    "ssim_corr, _ = stats.spearmanr(ssim_score, blur_dmos[0:num_images])\n",
    "\n",
    "print(\"The correlation with perception and PSNR is  %.4f\"%(psnr_corr))\n",
    "print(\"The correlation with perception and SSIM is  %.4f\"%(ssim_corr))"
   ]
  }
 ]
}