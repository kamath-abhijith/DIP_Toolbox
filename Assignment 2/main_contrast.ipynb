{
 "metadata": {
  "language_info": {
   "codemirror_mode": {
    "name": "ipython",
    "version": 3
   },
   "file_extension": ".py",
   "mimetype": "text/x-python",
   "name": "python",
   "nbconvert_exporter": "python",
   "pygments_lexer": "ipython3",
   "version": "3.8.3-final"
  },
  "orig_nbformat": 2,
  "kernelspec": {
   "name": "python3",
   "display_name": "Python 3"
  }
 },
 "nbformat": 4,
 "nbformat_minor": 2,
 "cells": [
  {
   "source": [
    "# Image Contrast Enhancement\n",
    "\n",
    "Contents:\n",
    "- Full-Scale Contrast Stretch\n",
    "- Gamma Transforms\n",
    "- Histogram Equalisation\n",
    "- Adaptive Histogram Equalisation (CLAHE)\n",
    "\n",
    "Author: Abijith J. Kamath, IISc.\n",
    "https://kamath-abhijith.github.io"
   ],
   "cell_type": "markdown",
   "metadata": {}
  },
  {
   "cell_type": "code",
   "execution_count": null,
   "metadata": {},
   "outputs": [],
   "source": [
    "import numpy as np\n",
    "\n",
    "from skimage import io\n",
    "from matplotlib import pyplot as plt\n",
    "from matplotlib import style"
   ]
  },
  {
   "source": [
    "## Full-Scale Constrast Stretch\n",
    "\n",
    "Let $I$ be an $8$-bit image. The transformation:\n",
    "$$\n",
    "    I := \\frac{255}{b-a}(I - a),\n",
    "$$\n",
    "where $b = \\max(I)$ and $a = \\min(I)$, transforms the image such that $\\min(I) = 0$ and $\\max(I) = 255$, thus, in some sense improving the contrast of the image."
   ],
   "cell_type": "markdown",
   "metadata": {}
  },
  {
   "cell_type": "code",
   "execution_count": null,
   "metadata": {},
   "outputs": [],
   "source": [
    "## FUNCTION DEFINITION: FULL-SCALE CONTRAST STRETCH\n",
    "def fscs(image):\n",
    "    image = np.double(image)\n",
    "\n",
    "    return (255/(np.max(image)-np.min(image)))*(image - np.min(image))"
   ]
  },
  {
   "source": [
    "## Gamma Transform\n",
    "\n",
    "Let $I$ be an $8$-bit, normalised image. The gamma transformation:\n",
    "\n",
    "$$\n",
    "I := I^{\\gamma}, \\; \\gamma > 0.\n",
    "$$\n",
    "The contrast of the trasnformed image is better when $0<\\gamma<1$."
   ],
   "cell_type": "markdown",
   "metadata": {}
  },
  {
   "cell_type": "code",
   "execution_count": null,
   "metadata": {},
   "outputs": [],
   "source": [
    "## FUNCTION DEFINITION: GAMMA TRANSFORM\n",
    "\n",
    "def gamma_transform(image, gamma=0.5):\n",
    "    return ((np.double(image)/255.0)**gamma)*255.0"
   ]
  },
  {
   "source": [
    "## Histogram Equalisation\n",
    "Let $X$ be a continuous random variable with an invertible distribution function $F$. Define $Y = F(X)$. Since, $F(x) = [0,1]$, $0\\leq Y \\leq 1$, with the distribution function:\n",
    "$$\n",
    "F_Y(y) = Pr[Y\\leq y] = Pr[F(X)\\leq y] = Pr[X\\leq F^{-1}(y)] = F(F^{-1}(y)) = y,\n",
    "$$\n",
    "i.e., Y has a uniform distribution. Let $I$ be an $8$-bit image with the normalised histogram $p$. The histogram equalisation:\n",
    "$$\n",
    "J(i,j) = \\sum_{k=0}^{I(i,j)} p(k),\n",
    "$$\n",
    "is a discrete approximation to the continous transform, i.e., the transformed image $J$ has a better (more uniform) contrast."
   ],
   "cell_type": "markdown",
   "metadata": {}
  },
  {
   "cell_type": "code",
   "execution_count": null,
   "metadata": {},
   "outputs": [],
   "source": [
    "## HISTOGRAM EQUALISATION\n",
    "\n",
    "def hist_eq(image):\n",
    "    [m,n] = image.shape\n",
    "\n",
    "    [image_hist, _] = np.histogram(image, bins=np.arange(0,255,1))\n",
    "    image_density = image_hist/(m*n)\n",
    "\n",
    "    sum_image_density = np.cumsum(image_density)\n",
    "    sum_image_density = np.append(sum_image_density, [0,0])\n",
    "    hist_eq_image = np.zeros((m,n), dtype=np.int)\n",
    "    for i in range(m):\n",
    "        for j in range(n):\n",
    "            hist_eq_image[i,j] = 255.0*sum_image_density[image[i,j]]\n",
    "\n",
    "    return hist_eq_image"
   ]
  },
  {
   "cell_type": "code",
   "execution_count": null,
   "metadata": {},
   "outputs": [],
   "source": [
    "## READ/DISPLAY IMAGES WITH THEIR HISTOGRAMS\n",
    "\n",
    "image1 = io.imread(\"LowLight_1.png\", 0)\n",
    "image2 = io.imread(\"LowLight_2.png\", 0)\n",
    "image3 = io.imread(\"Hazy.png\", 0)\n",
    "image4 = io.imread(\"StoneFace.png\", 0)\n",
    "\n",
    "numbins = 255\n",
    "[image1_hist, bins] = np.histogram(image1, bins=np.arange(0,numbins,1))\n",
    "[image2_hist, bins] = np.histogram(image2, bins=np.arange(0,numbins,1))\n",
    "[image3_hist, bins] = np.histogram(image3, bins=np.arange(0,numbins,1))\n",
    "[image4_hist, bins] = np.histogram(image4, bins=np.arange(0,numbins,1))\n",
    "\n",
    "fig, plts = plt.subplots(4,2,figsize=(20,20))\n",
    "plts[0,0].imshow(image1, cmap='gray')\n",
    "plts[0,0].axis('off')\n",
    "plts[0,1].plot(image1_hist)\n",
    "plts[0,1].set_ylabel(r\"Frequency\")\n",
    "\n",
    "plts[1,0].imshow(image2, cmap='gray')\n",
    "plts[1,0].axis('off')\n",
    "plts[1,1].plot(image2_hist)\n",
    "plts[1,1].set_ylabel(r\"Frequency\")\n",
    "\n",
    "plts[2,0].imshow(image3, cmap='gray')\n",
    "plts[2,0].axis('off')\n",
    "plts[2,1].plot(image3_hist)\n",
    "plts[2,1].set_ylabel(r\"Frequency\")\n",
    "\n",
    "plts[3,0].imshow(image4, cmap='gray')\n",
    "plts[3,0].axis('off')\n",
    "plts[3,1].plot(image4_hist)\n",
    "plts[3,1].set_xlabel(r\"Pixel Intensity\")\n",
    "plts[3,1].set_ylabel(r\"Frequency\")\n",
    "\n",
    "fig.suptitle(r\"Original Image\", fontsize=24)\n",
    "plt.show()"
   ]
  },
  {
   "cell_type": "code",
   "execution_count": null,
   "metadata": {},
   "outputs": [],
   "source": [
    "## FULL-SCALE CONTRAST STRETCH\n",
    "\n",
    "image1_fscs = fscs(image1)\n",
    "image2_fscs = fscs(image2)\n",
    "\n",
    "[image1_fscs_hist, bins] = np.histogram(image1_fscs, bins=np.arange(0,numbins,1))\n",
    "[image2_fscs_hist, bins] = np.histogram(image2_fscs, bins=np.arange(0,numbins,1))\n",
    "\n",
    "fig, plts = plt.subplots(2,2,figsize=(20, 20))\n",
    "plts[0,0].imshow(image1_fscs, cmap='gray')\n",
    "plts[0,1].plot(image1_fscs_hist)\n",
    "plts[0,1].set_ylabel(r\"Frequency\")\n",
    "\n",
    "plts[1,0].imshow(image2_fscs, cmap='gray')\n",
    "plts[1,1].plot(image2_fscs_hist)\n",
    "plts[1,1].set_xlabel(r\"Pixel Intensity\")\n",
    "plts[1,1].set_ylabel(r\"Frequency\")\n",
    "\n",
    "fig.suptitle(r\"Full-Scale Constrast Stretch\", fontsize=24)\n",
    "plt.show()"
   ]
  },
  {
   "cell_type": "code",
   "execution_count": null,
   "metadata": {},
   "outputs": [],
   "source": [
    "## GAMMA TRANSFORMATION\n",
    "\n",
    "image1_gamma = gamma_transform(image1)\n",
    "image2_gamma = gamma_transform(image2)\n",
    "image3_gamma = gamma_transform(image3)\n",
    "\n",
    "[image1_gamma_hist, bins] = np.histogram(image1_gamma, bins=np.arange(0,numbins,1))\n",
    "[image2_gamma_hist, bins] = np.histogram(image2_gamma, bins=np.arange(0,numbins,1))\n",
    "[image3_gamma_hist, bins] = np.histogram(image3_gamma, bins=np.arange(0,numbins,1))\n",
    "\n",
    "fig, plts = plt.subplots(3,2,figsize=(20, 20))\n",
    "plts[0,0].imshow(image1_gamma, cmap='gray')\n",
    "plts[0,1].plot(image1_gamma_hist)\n",
    "plts[0,1].set_ylabel(r\"Frequency\")\n",
    "\n",
    "plts[1,0].imshow(image2_gamma, cmap='gray')\n",
    "plts[1,1].plot(image2_gamma_hist)\n",
    "plts[1,1].set_ylabel(r\"Frequency\")\n",
    "\n",
    "plts[2,0].imshow(image3_gamma, cmap='gray')\n",
    "plts[2,1].plot(image3_gamma_hist)\n",
    "plts[2,1].set_xlabel(r\"Pixel Intensity\")\n",
    "plts[2,1].set_ylabel(r\"Frequency\")\n",
    "\n",
    "fig.suptitle(r\"Gamma Transformation\", fontsize=24)\n",
    "plt.show()"
   ]
  },
  {
   "cell_type": "code",
   "execution_count": null,
   "metadata": {},
   "outputs": [],
   "source": [
    "image1_histeq = hist_eq(image1)\n",
    "image2_histeq = hist_eq(image2)\n",
    "image3_histeq = hist_eq(image3)\n",
    "image4_histeq = hist_eq(image4)\n",
    "\n",
    "[image1_histeq_hist, bins] = np.histogram(image1_histeq, bins=np.arange(0,numbins,1))\n",
    "[image2_histeq_hist, bins] = np.histogram(image2_histeq, bins=np.arange(0,numbins,1))\n",
    "[image3_histeq_hist, bins] = np.histogram(image3_histeq, bins=np.arange(0,numbins,1))\n",
    "[image4_histeq_hist, bins] = np.histogram(image4_histeq, bins=np.arange(0,numbins,1))\n",
    "\n",
    "fig, plts = plt.subplots(4,2,figsize=(20, 20))\n",
    "plts[0,0].imshow(image1_histeq, cmap='gray')\n",
    "plts[0,1].plot(image1_histeq_hist)\n",
    "plts[0,1].set_ylabel(r\"Frequency\")\n",
    "\n",
    "plts[1,0].imshow(image2_histeq, cmap='gray')\n",
    "plts[1,1].plot(image2_histeq_hist)\n",
    "plts[1,1].set_ylabel(r\"Frequency\")\n",
    "\n",
    "plts[2,0].imshow(image3_histeq, cmap='gray')\n",
    "plts[2,1].plot(image3_histeq_hist)\n",
    "plts[2,1].set_ylabel(r\"Frequency\")\n",
    "\n",
    "plts[3,0].imshow(image4_histeq, cmap='gray')\n",
    "plts[3,1].plot(image4_histeq_hist)\n",
    "plts[3,1].set_xlabel(r\"Pixel Intensity\")\n",
    "plts[3,1].set_ylabel(r\"Frequency\")\n",
    "\n",
    "fig.suptitle(r\"Histogram Equalisation\", fontsize=24)\n",
    "plt.show()"
   ]
  }
 ]
}